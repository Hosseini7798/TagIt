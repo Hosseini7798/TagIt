{
 "cells": [
  {
   "cell_type": "code",
   "execution_count": null,
   "id": "57cb9e14",
   "metadata": {},
   "outputs": [],
   "source": [
    "# !pip install -r requirements.txt"
   ]
  },
  {
   "cell_type": "code",
   "execution_count": null,
   "id": "2fd5dded",
   "metadata": {},
   "outputs": [],
   "source": [
    "import TagIt"
   ]
  },
  {
   "cell_type": "code",
   "execution_count": null,
   "id": "73a7497c",
   "metadata": {},
   "outputs": [],
   "source": [
    "Images_dir = \"Images/Retinal_OCT/\" \n",
    "BackUp_dir = \"BackUp/\"\n",
    "# Define some specific key button and corresponding classes in dictionary data structure\n",
    "classes_input = {\"0\":\"Normal\", \"1\":\"CNV\", \"2\":\"DME\", \"3\":\"GA\", \"4\":\"Drusen\",\n",
    "                 \"5\":\"VMT\", \"6\":\"CSR\", \"7\":\"ERM\", \"8\":\"FMH\", \"9\":\"PMH\", \"+\":\"HE\",\n",
    "                 \"alt\":\"Referal_to_ophthalmologist\",\".\":\"Indistinguishable\"}"
   ]
  },
  {
   "cell_type": "code",
   "execution_count": null,
   "id": "1d591d0a",
   "metadata": {},
   "outputs": [],
   "source": [
    "tagger = TagIt.Tagger(Images_dir, BackUp_dir, classes_input, img_type=\"jpg\",  figsize=(7,7))"
   ]
  }
 ],
 "metadata": {
  "kernelspec": {
   "display_name": "Python 3 (ipykernel)",
   "language": "python",
   "name": "python3"
  },
  "language_info": {
   "codemirror_mode": {
    "name": "ipython",
    "version": 3
   },
   "file_extension": ".py",
   "mimetype": "text/x-python",
   "name": "python",
   "nbconvert_exporter": "python",
   "pygments_lexer": "ipython3",
   "version": "3.9.15"
  }
 },
 "nbformat": 4,
 "nbformat_minor": 5
}
